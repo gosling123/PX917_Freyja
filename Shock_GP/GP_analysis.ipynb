{
 "cells": [
  {
   "cell_type": "code",
   "execution_count": null,
   "metadata": {},
   "outputs": [],
   "source": [
    "import numpy as np\n",
    "from GP_regression import * \n",
    "import scipy.stats as sc"
   ]
  },
  {
   "cell_type": "code",
   "execution_count": null,
   "metadata": {},
   "outputs": [],
   "source": [
    "GP_titles = ['GP_calib_best/log_L_P1_GP.pickle',\\\n",
    "             'GP_calib_best/log_L_P2_GP.pickle',\\\n",
    "             'GP_calib_best/log_L_P3_GP.pickle'] \n",
    "profiles = [1, 2, 3]\n",
    "\n",
    "GPs = {}\n",
    "\n",
    "for profile, title in zip(profiles, GP_titles):\n",
    "    \n",
    "    GPs[profile] = GPy.load(title)\n",
    "    "
   ]
  },
  {
   "cell_type": "code",
   "execution_count": null,
   "metadata": {},
   "outputs": [],
   "source": [
    "bounds = np.array([[0.0, 0.3], [0.35, 0.65], [0.15, 0.45], [0.65, 0.95], [0.05, 0.35]])\n",
    "LH = LHC(sample_space=0, bounds=bounds,\\\n",
    "         calib_samp=0, GP_samp=500000)"
   ]
  },
  {
   "cell_type": "code",
   "execution_count": null,
   "metadata": {},
   "outputs": [],
   "source": [
    "predict_samples = LH.GP_samp_space\n",
    "\n",
    "params = {}\n",
    "\n",
    "for profile in profiles:\n",
    "\n",
    "    log_L_p, V_p = GPs[profile].predict(predict_samples)\n",
    "\n",
    "    index = int(np.where(log_L_p == np.max(log_L_p))[0])\n",
    "    print(index)\n",
    "\n",
    "    params[profile] = predict_samples[index, :]\n",
    "\n",
    "\n",
    "print(params)"
   ]
  },
  {
   "cell_type": "code",
   "execution_count": null,
   "metadata": {},
   "outputs": [],
   "source": [
    "res1 = shk_vel(params=params[1], profile=1, plot=True)\n",
    "res2 = shk_vel(params=params[2], profile=2, plot=True)\n",
    "res3 = shk_vel(params=params[3], profile=3, plot=True)\n",
    "\n",
    "print(res1, res2, res3)"
   ]
  },
  {
   "cell_type": "code",
   "execution_count": null,
   "metadata": {},
   "outputs": [],
   "source": [
    "bounds2 = np.array([[0.04, 0.1], [0.4, 0.55], [0.15, 0.45], [0.8, 0.95], [0.05, 0.35]])\n",
    "\n",
    "LH2 = LHC(sample_space=0, bounds=bounds2,\\\n",
    "         calib_samp=500, GP_samp=500000)\n",
    "\n",
    "\n",
    "predict_samples = LH2.GP_samp_space\n",
    "\n",
    "params = {}\n",
    "\n",
    "for profile in profiles:\n",
    "    \n",
    "    log_L_p, V_p = GPs[profile].predict(predict_samples)\n",
    "\n",
    "    index = int(np.where(log_L_p == np.max(log_L_p))[0])\n",
    "    print(index)\n",
    "\n",
    "    params[profile] = predict_samples[index, :]\n",
    "\n",
    "\n",
    "print(params)"
   ]
  },
  {
   "cell_type": "code",
   "execution_count": null,
   "metadata": {},
   "outputs": [],
   "source": [
    "res1 = shk_vel(params=params[1], profile=1, plot=True)\n",
    "res2 = shk_vel(params=params[2], profile=2, plot=True)\n",
    "res3 = shk_vel(params=params[3], profile=3, plot=True)\n",
    "\n",
    "print(res1, res2, res3)"
   ]
  },
  {
   "cell_type": "code",
   "execution_count": null,
   "metadata": {},
   "outputs": [],
   "source": [
    "bounds2 = np.array([[0.04, 0.3], [0.0, 0.0], [0.39, 0.4], [0.67, 0.68], [0.31, 0.32]])\n",
    "\n",
    "LH2 = LHC(sample_space=0, bounds=bounds2,\\\n",
    "         calib_samp=500, GP_samp=500000)\n",
    "\n",
    "\n",
    "predict_samples = LH2.GP_samp_space\n",
    "\n",
    "params = {}\n",
    "\n",
    "for profile in profiles:\n",
    "    \n",
    "    log_L_p, V_p = GPs[profile].predict(predict_samples)\n",
    "\n",
    "    index = int(np.where(log_L_p == np.max(log_L_p))[0])\n",
    "    print(index)\n",
    "\n",
    "    params[profile] = predict_samples[index, :]\n",
    "\n",
    "\n",
    "print(params)"
   ]
  }
 ],
 "metadata": {
  "interpreter": {
   "hash": "e7370f93d1d0cde622a1f8e1c04877d8463912d04d973331ad4851f04de6915a"
  },
  "kernelspec": {
   "display_name": "Python 3",
   "language": "python",
   "name": "python3"
  },
  "language_info": {
   "codemirror_mode": {
    "name": "ipython",
    "version": 3
   },
   "file_extension": ".py",
   "mimetype": "text/x-python",
   "name": "python",
   "nbconvert_exporter": "python",
   "pygments_lexer": "ipython3",
   "version": "3.8.10"
  }
 },
 "nbformat": 4,
 "nbformat_minor": 2
}
