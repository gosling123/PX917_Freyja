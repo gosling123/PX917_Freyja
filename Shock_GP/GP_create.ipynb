{
 "cells": [
  {
   "cell_type": "code",
   "execution_count": null,
   "metadata": {},
   "outputs": [],
   "source": [
    "import numpy as np\n",
    "from GP_regression import * \n",
    "import scipy.stats as sc\n"
   ]
  },
  {
   "cell_type": "code",
   "execution_count": null,
   "metadata": {},
   "outputs": [],
   "source": [
    "### variables = [flux_e, flux_i, RA_frac, coupling, lpi_loss_frac] ###\n",
    "\n",
    "sample_space = [sc.uniform(0.00,0.3), sc.uniform(0.35,0.3), sc.uniform(0.15,0.3),\n",
    "                sc.uniform(0.65,0.3),sc.uniform(0.05,0.3)]\n",
    "\n",
    "bounds = np.array([[0.0, 0.1], [0.4, 0.6], [0.2, 0.4], [0.75, 0.95], [0.05, 0.35]])\n"
   ]
  },
  {
   "cell_type": "code",
   "execution_count": null,
   "metadata": {},
   "outputs": [],
   "source": [
    "LH = LHC(sample_space=sample_space, bounds=bounds,\\\n",
    "         calib_samp=500, GP_samp=100000)\n"
   ]
  },
  {
   "cell_type": "code",
   "execution_count": null,
   "metadata": {},
   "outputs": [],
   "source": [
    "LH.calibrate_samples(new_calib = False, best_data = True)"
   ]
  },
  {
   "cell_type": "code",
   "execution_count": null,
   "metadata": {},
   "outputs": [],
   "source": [
    "# LH.plot_prior_LHC()"
   ]
  },
  {
   "cell_type": "code",
   "execution_count": null,
   "metadata": {},
   "outputs": [],
   "source": [
    "LH_samples = LH.X_data\n",
    "log_L_results_P1 = LH.Y_P1_data\n",
    "log_L_results_P2 = LH.Y_P2_data\n",
    "log_L_results_P3 = LH.Y_P3_data\n",
    "ST_results_P2 = LH.Y_ST_P2_data\n",
    "ST_results_P3 = LH.Y_ST_P3_data\n",
    "\n",
    "\n"
   ]
  },
  {
   "cell_type": "code",
   "execution_count": null,
   "metadata": {},
   "outputs": [],
   "source": [
    "GPs_log_L = {}\n",
    "\n",
    "profiles = [1, 2, 3]\n",
    "outputs = [log_L_results_P1, log_L_results_P2, log_L_results_P3]\n",
    "\n",
    "for profile, output in zip(profiles, outputs):\n",
    "    \n",
    "    GPs_log_L[profile]  = GP_reg(kernel='Exponential', samples=LH_samples, \\\n",
    "                           output=output, train_frac=0.99, restarts = 50)"
   ]
  },
  {
   "cell_type": "code",
   "execution_count": null,
   "metadata": {},
   "outputs": [],
   "source": [
    "fnames = ['GP_calib/log_L_P1_GP.pickle', 'GP_calib/log_L_P2_GP.pickle', 'GP_calib/log_L_P3_GP.pickle']\n",
    "titles = [r'Profile 1', r'Profile 2', r'Profile 3']\n",
    "\n",
    "for profile, fname, title in zip(profiles, fnames, titles):\n",
    "\n",
    "    # if (profile == 1 or profile == 3):\n",
    "    #     continue\n",
    "    \n",
    "    GPs_log_L[profile].test_train()\n",
    "    GPs_log_L[profile].regression()\n",
    "    GPs_log_L[profile].m.pickle(fname)\n",
    "    print(GPs_log_L[profile].len_scales)\n",
    "    GPs_log_L[profile].test_train_plot(title = title, likelihood = True)\n",
    "\n"
   ]
  },
  {
   "cell_type": "code",
   "execution_count": null,
   "metadata": {},
   "outputs": [],
   "source": [
    "predict_samples = LH.GP_samp_space\n",
    "\n",
    "params = {}\n",
    "\n",
    "for profile in profiles:\n",
    "    # if (profile == 1 or profile == 3):\n",
    "    #     continue\n",
    "    \n",
    "\n",
    "    log_L_p, V_p = GPs_log_L[profile].GP_predict(X = predict_samples)\n",
    "\n",
    "    index = int(np.where(log_L_p == np.max(log_L_p))[0])\n",
    "    print(index)\n",
    "\n",
    "    params[profile] = predict_samples[index, :]\n",
    "\n",
    "\n",
    "print(params)"
   ]
  },
  {
   "cell_type": "code",
   "execution_count": null,
   "metadata": {},
   "outputs": [],
   "source": [
    "# profile 1\n",
    "# theta = [0.06, 0.42, 0.253, 0.71, 0.34]\n",
    "shk_vel(params=params[1], profile=1, plot=True)\n",
    "\n",
    "# shk_vel(params=theta, profile=1, plot=True)"
   ]
  },
  {
   "cell_type": "code",
   "execution_count": null,
   "metadata": {},
   "outputs": [],
   "source": [
    "# profile 2\n",
    "#theta = [0.062821 , 0.477645 , 0.244835 , 0.7885375, 0.2106275]\n",
    "shk_vel(params=params[2], profile=2, plot=True)\n",
    "# shk_vel(params=theta, profile=2, plot=True)"
   ]
  },
  {
   "cell_type": "code",
   "execution_count": null,
   "metadata": {},
   "outputs": [],
   "source": [
    "# profile 3\n",
    "\n",
    "shk_vel(params=params[3], profile=3, plot=True)"
   ]
  },
  {
   "cell_type": "code",
   "execution_count": null,
   "metadata": {},
   "outputs": [],
   "source": [
    "bounds2 = np.array([[0.04, 0.1], [0.4, 0.55], [0.15, 0.45], [0.8, 0.95], [0.05, 0.35]])\n",
    "\n",
    "LH2 = LHC(sample_space=sample_space, bounds=bounds2,\\\n",
    "         calib_samp=500, GP_samp=500000)\n"
   ]
  },
  {
   "cell_type": "code",
   "execution_count": null,
   "metadata": {},
   "outputs": [],
   "source": [
    "predict_samples = LH2.GP_samp_space\n",
    "\n",
    "params = {}\n",
    "\n",
    "for profile in profiles:\n",
    " \n",
    "    log_L_p, V_p = GPs_log_L[profile].GP_predict(X = predict_samples)\n",
    "\n",
    "    index = int(np.where(log_L_p == np.max(log_L_p))[0])\n",
    "    print(index)\n",
    "\n",
    "    params[profile] = predict_samples[index, :]\n",
    "\n",
    "\n",
    "print(params)\n",
    "\n"
   ]
  },
  {
   "cell_type": "code",
   "execution_count": null,
   "metadata": {},
   "outputs": [],
   "source": [
    "params"
   ]
  },
  {
   "cell_type": "code",
   "execution_count": null,
   "metadata": {},
   "outputs": [],
   "source": [
    "shk_vel(params=params[1], profile=1, plot=True)\n"
   ]
  },
  {
   "cell_type": "code",
   "execution_count": null,
   "metadata": {},
   "outputs": [],
   "source": [
    "\n",
    "shk_vel(params=params[2], profile=2, plot=True)\n",
    "\n"
   ]
  },
  {
   "cell_type": "code",
   "execution_count": null,
   "metadata": {},
   "outputs": [],
   "source": [
    "\n",
    "shk_vel(params=params[3], profile=3, plot=True)"
   ]
  },
  {
   "cell_type": "code",
   "execution_count": null,
   "metadata": {},
   "outputs": [],
   "source": [
    "GPs_ST = {}\n",
    "\n",
    "ST_profiles = [2, 3]\n",
    "ST_outputs = [ST_results_P2, ST_results_P3]\n",
    "\n",
    "for profile, output in zip(ST_profiles, ST_outputs):\n",
    "    \n",
    "    GPs_ST[profile]  = GP_reg(kernel='Exponential', samples=LH_samples, \\\n",
    "                           output=output, train_frac=0.7)"
   ]
  },
  {
   "cell_type": "code",
   "execution_count": null,
   "metadata": {},
   "outputs": [],
   "source": [
    "ST_fnames = ['GP_calib/ST_P2_GP.pickle', 'GP_calib/ST_P3_GP.pickle']\n",
    "ST_titles = [r'Profile 2', r'Profile 3']\n",
    "\n",
    "for profile, fname, title in zip(ST_profiles, ST_fnames, ST_titles):\n",
    "\n",
    "    GPs_ST[profile].test_train()\n",
    "    GPs_ST[profile].regression()\n",
    "    GPs_ST[profile].m.pickle(fname)\n",
    "    print(GPs_ST[profile].len_scales)\n",
    "    GPs_ST[profile].test_train_plot(title = title, shock_time = True)\n"
   ]
  },
  {
   "cell_type": "code",
   "execution_count": null,
   "metadata": {},
   "outputs": [],
   "source": [
    "predict_samples = LH.GP_samp_space\n",
    "\n",
    "params_ST = {}\n",
    "\n",
    "for profile in ST_profiles:\n",
    "\n",
    "    ST_res_p, V_ST_p = GPs_ST[profile].GP_predict(X = predict_samples)\n",
    "\n",
    "    target = 0.0\n",
    "\n",
    "    ST_res_p = ST_res_p.reshape(len(ST_res_p))\n",
    "\n",
    "    target_arr = np.abs(ST_res_p-target)\n",
    "\n",
    "    index = target_arr.argmin()\n",
    "    \n",
    "    params_ST[profile] = predict_samples[index, :]\n",
    "\n",
    "\n",
    "print(params_ST)"
   ]
  },
  {
   "cell_type": "code",
   "execution_count": null,
   "metadata": {},
   "outputs": [],
   "source": [
    "# profile 2\n",
    "\n",
    "shk_vel(params=params_ST[2], profile=2, plot=True, shock_time=True)"
   ]
  },
  {
   "cell_type": "code",
   "execution_count": null,
   "metadata": {},
   "outputs": [],
   "source": [
    "# profile 3\n",
    "\n",
    "shk_vel(params=params_ST[3], profile=3, plot=True, shock_time=True)"
   ]
  },
  {
   "cell_type": "markdown",
   "metadata": {},
   "source": [
    "## Sensitivity Analysis"
   ]
  },
  {
   "cell_type": "code",
   "execution_count": null,
   "metadata": {},
   "outputs": [],
   "source": [
    "x0 = []\n",
    "sig = []\n",
    "\n",
    "for i in range(5):\n",
    "    x0.append(np.mean(predict_samples[:,i]))\n",
    "    sig.append(np.std(predict_samples[:,i]))"
   ]
  },
  {
   "cell_type": "markdown",
   "metadata": {},
   "source": [
    "## Log L results\n"
   ]
  },
  {
   "cell_type": "code",
   "execution_count": null,
   "metadata": {},
   "outputs": [],
   "source": [
    "## GP sens\n",
    "for profile in profiles:\n",
    "    # if (profile == 1 or profile == 3):\n",
    "    #     continue\n",
    "\n",
    "    GPs_log_L[profile].GP_sensitivities(x0, plot = True, likelihood = True)"
   ]
  }
 ],
 "metadata": {
  "interpreter": {
   "hash": "e7370f93d1d0cde622a1f8e1c04877d8463912d04d973331ad4851f04de6915a"
  },
  "kernelspec": {
   "display_name": "Python 3",
   "language": "python",
   "name": "python3"
  },
  "language_info": {
   "codemirror_mode": {
    "name": "ipython",
    "version": 3
   },
   "file_extension": ".py",
   "mimetype": "text/x-python",
   "name": "python",
   "nbconvert_exporter": "python",
   "pygments_lexer": "ipython3",
   "version": "3.8.10"
  }
 },
 "nbformat": 4,
 "nbformat_minor": 2
}
