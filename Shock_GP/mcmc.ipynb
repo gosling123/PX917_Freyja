{
 "cells": [
  {
   "cell_type": "code",
   "execution_count": null,
   "metadata": {},
   "outputs": [],
   "source": [
    "import pickle\n",
    "from GP_regression import * \n",
    "import scipy.stats as st\n",
    "from scipy.optimize import minimize"
   ]
  },
  {
   "cell_type": "code",
   "execution_count": null,
   "metadata": {},
   "outputs": [],
   "source": [
    "GP_titles = ['GP_calib_best/log_L_P1_GP.pickle',\\\n",
    "             'GP_calib_best/log_L_P2_GP.pickle',\\\n",
    "             'GP_calib_best/log_L_P3_GP.pickle'] \n",
    "profiles = [1, 2, 3]\n",
    "\n",
    "GPs = {}\n",
    "\n",
    "for profile, title in zip(profiles, GP_titles):\n",
    "    \n",
    "    GPs[profile] = GPy.load(title)"
   ]
  },
  {
   "cell_type": "code",
   "execution_count": null,
   "metadata": {},
   "outputs": [],
   "source": [
    "opt_val = {}\n",
    "vals_res = {}\n",
    "opt_res = {}\n",
    "\n",
    "## nominal values fig 3a\n",
    "\n",
    "opt_val[1] = np.array([[0.2715, 0.6257, 0.3933, 0.6737, 0.3185]])\n",
    "vals_res[1] = -187.72038344\n",
    "opt_res[1] = -107.05880716\n",
    "\n",
    "\n",
    "\n",
    "## nominal values fig 3b\n",
    "\n",
    "opt_val[2] = np.array([[0.0529825, 0.457069 , 0.306745 , 0.757327 , 0.1542485]])\n",
    "vals_res[2] = -219.01617537\n",
    "opt_res[2] = -110.03513997\n",
    "\n",
    "\n",
    "## nominal values fig 4\n",
    "\n",
    "opt_val[3] = np.array([[0.0315321, 0.3624473, 0.1819143, 0.9467015, 0.0571799]])\n",
    "vals_res[3] = -397.16571399\n",
    "opt_res[3] = -54.5520279"
   ]
  },
  {
   "cell_type": "code",
   "execution_count": null,
   "metadata": {},
   "outputs": [],
   "source": [
    "X_LH = np.load('GP_calib_best/LH_freyja_samples.npy')\n",
    "\n",
    "results = {}\n",
    "    \n",
    "results[1] = np.load('GP_calib_best/Log_L_samples_P1.npy')\n",
    "results[2] = np.load('GP_calib_best/Log_L_samples_P2.npy')\n",
    "results[3] = np.load('GP_calib_best/Log_L_samples_P3.npy')\n",
    "\n",
    "\n"
   ]
  },
  {
   "cell_type": "code",
   "execution_count": null,
   "metadata": {},
   "outputs": [],
   "source": [
    "X = {}\n",
    "Z = {}\n",
    "var = {}\n",
    "\n",
    "for profile in profiles:\n",
    "    \n",
    "    X[profile] = np.r_[opt_val[profile], X_LH]\n",
    "    \n",
    "    res = np.r_[opt_res[profile], results[profile]]\n",
    "    \n",
    "    Z[profile] = res[:, None]\n",
    "    \n",
    "    var[profile] = np.r_[np.abs(0.05*opt_res[profile]), np.zeros(X_LH.shape[0])]\n",
    "    \n",
    "    "
   ]
  },
  {
   "cell_type": "code",
   "execution_count": null,
   "metadata": {},
   "outputs": [],
   "source": [
    "X_s = {}\n",
    "\n",
    "for profile in profiles:\n",
    "    \n",
    "    x = X[profile]\n",
    "    \n",
    "    min_vals = 0.5 * opt_val[profile][0]; max_vals = 1.5 * opt_val[profile][0]\n",
    "    scaled = np.zeros_like(x)\n",
    "    \n",
    "\n",
    "    for j in range(X_LH.shape[1]):\n",
    "        \n",
    "        scaled[:, j] = (x[:, j] - min_vals[j]) / (max_vals[j] - min_vals[j])\n",
    "    \n",
    "    X_s[profile] = scaled\n",
    "    \n",
    "# print(X_s)"
   ]
  },
  {
   "cell_type": "code",
   "execution_count": null,
   "metadata": {},
   "outputs": [],
   "source": [
    "priors = {}\n",
    "\n",
    "for profile in profiles:\n",
    "    \n",
    "    priors[profile] = [GPy.priors.Gaussian(0.5, 0.5) for x in X_s[profile]]\n",
    "    "
   ]
  },
  {
   "cell_type": "code",
   "execution_count": null,
   "metadata": {},
   "outputs": [],
   "source": [
    "def build_gp(x, profile):\n",
    "    X_s[profile][0, :] = x[:N_param] # set calibration parameters\n",
    "    kern = GPy.kern.Exponential(input_dim=X_s[profile].shape[1], ARD=True)\n",
    "    m = GPy.models.GPHeteroscedasticRegression(X_s[profile], Z[profile], kern)\n",
    "    m.likelihood.variance[:, 0] = var[profile] # fix variances at known values\n",
    "    m.likelihood.fix()\n",
    "    m.optimizer_array = m0.optimizer_array # fix hyperparameters at optimized values\n",
    "    return m\n",
    "\n",
    "def log_param_priors(x, profile):\n",
    "    ps = [p.lnpdf(_x) for (_x, p) in zip(x, priors[profile])]\n",
    "    return np.sum(ps)\n",
    "\n",
    "def log_post(x, profile):\n",
    "    m = build_gp(x, profile)\n",
    "    return m.log_likelihood() + m.log_prior() + log_param_priors(x, profile)"
   ]
  },
  {
   "cell_type": "code",
   "execution_count": null,
   "metadata": {},
   "outputs": [],
   "source": [
    "def grw_metropolis_mcmc(x0, log_h, N, sigma, profile):\n",
    "    x0 = np.array(x0)\n",
    "    assert x0.ndim == 1\n",
    "    d = x0.shape[0]\n",
    "    X = np.zeros((N+1, d))\n",
    "    X[0, :] = x0\n",
    "    accepted = 0\n",
    "    log_hp = log_h(x0, profile) # previous value of log(h(x))\n",
    "    \n",
    "    for i in range(1, N+1):\n",
    "        # generation\n",
    "        Xn = X[i-1,:] + sigma*np.random.randn(d)\n",
    "        \n",
    "        # calculation \n",
    "        log_hn = log_h(Xn, profile)\n",
    "        alpha = min(1, np.exp(log_hn - log_hp))\n",
    "        \n",
    "        # accept/reject\n",
    "        if np.random.rand() <= alpha:\n",
    "            X[i, :] = Xn        # accept\n",
    "            log_hp = log_hn\n",
    "            accepted += 1\n",
    "        else:\n",
    "            X[i, :] = X[i-1, :] # reject\n",
    "            \n",
    "    return X, accepted / N"
   ]
  },
  {
   "cell_type": "code",
   "execution_count": null,
   "metadata": {},
   "outputs": [],
   "source": [
    "profile = 3\n",
    "\n",
    "N_param = 5\n",
    "N_hyper = 0 # len(m0.optimizer_array)\n",
    "x0 = np.ones(N_param + N_hyper)\n",
    "x0[:N_param] = 0.5 # start with the unmodified parameters\n",
    "\n",
    "X_s[profile][0, :] = x0[:N_param] # set calibration parameters\n",
    "kern = GPy.kern.Exponential(input_dim=X_s[profile].shape[1], ARD=True)\n",
    "m0 = GPy.models.GPHeteroscedasticRegression(X_s[profile], Z[profile], kern)\n",
    "m0.likelihood.variance[:, 0] = var[profile] # fix variances at known values\n",
    "m0.likelihood.fix()\n",
    "m0.optimize_restarts(5)\n"
   ]
  },
  {
   "cell_type": "code",
   "execution_count": null,
   "metadata": {},
   "outputs": [],
   "source": [
    "# for sigma_p in [0.1, 0.2, 0.5]:\n",
    "#     chain, accept = grw_metropolis_mcmc(x0, log_post, 1000, sigma_p, profile=1)\n",
    "#     print(sigma_p, accept, x0)\n"
   ]
  },
  {
   "cell_type": "code",
   "execution_count": null,
   "metadata": {},
   "outputs": [],
   "source": [
    "chain, accept = grw_metropolis_mcmc(x0, log_post, 10000, 0.5, profile = profile)\n",
    "print('acceptance ratio:', accept)"
   ]
  },
  {
   "cell_type": "code",
   "execution_count": null,
   "metadata": {},
   "outputs": [],
   "source": [
    "parameter_names = [r'$f_e$', r'$f_i$',r'$RA$', r'$C$', r'$LPI$']\n",
    "\n",
    "plt.plot(chain[:]);\n",
    "plt.legend(parameter_names);"
   ]
  },
  {
   "cell_type": "code",
   "execution_count": null,
   "metadata": {},
   "outputs": [],
   "source": [
    "print(len(chain))"
   ]
  },
  {
   "cell_type": "code",
   "execution_count": null,
   "metadata": {},
   "outputs": [],
   "source": [
    "burn = 3000\n",
    "thin = 40\n",
    "# log_L_calib = []\n",
    "# for sample in chain[burn::thin]:\n",
    "#     m = build_gp(sample, profile=1)\n",
    "#     Z_p, V_p = m.predict(X_s[1],  Y_metadata={'output_index': np.arange(len(var[1]))[:,None]})\n",
    "#     log_L_calib.append(Z_p[0, 0])\n",
    "# log_L_calib = np.array(log_L_calib)"
   ]
  },
  {
   "cell_type": "code",
   "execution_count": null,
   "metadata": {},
   "outputs": [],
   "source": [
    "fig, axs = plt.subplots(1, 5, figsize=(12,4))\n",
    "for i, ax in enumerate(axs.flat):\n",
    "    if i >= 5: continue\n",
    "    ax.acorr(chain[burn::thin, i], detrend=plt.mlab.detrend_mean, maxlags=50, color='C0')\n",
    "    ax.set_xlim(0, 50)\n",
    "    ax.hlines([0.5], 0, 50, color='k', ls='dashed')\n",
    "    ax.set_title(f'$x_{i+1}$ (label)')\n",
    "fig.subplots_adjust(wspace=0.5)\n"
   ]
  },
  {
   "cell_type": "code",
   "execution_count": null,
   "metadata": {},
   "outputs": [],
   "source": [
    "fig, axs = plt.subplots(2, 3)\n",
    "x = np.linspace(0, 1)\n",
    "\n",
    "min_vals = 0.5 * opt_val[profile][0]; max_vals = 1.5 * opt_val[profile][0]\n",
    "for j in range(5):\n",
    "    ax = axs.flat[j]\n",
    "    x = np.linspace(0.99*min_vals[j], 1.01*max_vals[j], 500)\n",
    "    sns.histplot(chain[burn::thin, j]*(max_vals[j]-min_vals[j]) + min_vals[j], \n",
    "                 stat='density', kde=True, color='C1', ax=ax)\n",
    "    u = st.uniform(min_vals[j], max_vals[j]-min_vals[j])\n",
    "    ax.plot(x, u.pdf(x), ls='-')    \n",
    "    ax.set_title(parameter_names[j])\n",
    "    ax.axvline(opt_val[profile][0][j], ls='--', lw=2)\n",
    "    ax.set_xlabel(r'Value')\n",
    "plt.subplots_adjust(wspace=0.45, hspace=0.3)\n",
    "axs.flat[-1].set_visible(False);\n",
    "plt.show()"
   ]
  },
  {
   "cell_type": "code",
   "execution_count": null,
   "metadata": {},
   "outputs": [],
   "source": [
    "# import pandas as pd\n",
    "# pg = sns.pairplot(pd.DataFrame(chain, columns=parameter_names), plot_kws={'s': 10})\n",
    "# pg.map_lower(sns.kdeplot);"
   ]
  },
  {
   "cell_type": "code",
   "execution_count": null,
   "metadata": {},
   "outputs": [],
   "source": [
    "fig = plt.figure()\n",
    "\n",
    "colours = ['C0', 'C1', 'C2', 'C3', 'C4']\n",
    "\n",
    "index = [0, 1, 2, 3, 4]\n",
    "\n",
    "peaks = []\n",
    "\n",
    "for j, C in zip(index, colours):\n",
    "   \n",
    "    ax = sns.kdeplot(chain[burn::thin, j]*(max_vals[j]-min_vals[j]) + min_vals[j], color=C, label = parameter_names[j], lw  = 3)        \n",
    "    # plt.axvline(opt_val[profile][0][j], ls='--', lw=2, color = C, label = r'Optimal GP ' + parameter_names[j])\n",
    "    plt.xlabel(r'Value', fontsize = 18)\n",
    "    plt.ylabel(r'Density', fontsize = 18)\n",
    "    plt.title(r'Profile = '+str(profile), fontsize = 20)\n",
    "    plt.legend(fontsize = 18)\n",
    "    plt.xticks(fontsize = 15)\n",
    "    plt.yticks(fontsize = 15)\n",
    "    x = ax.lines[j].get_xdata() # Get the x data of the distribution\n",
    "    y = ax.lines[j].get_ydata() # Get the y data of the distribution\n",
    "    maxid = np.argmax(y) # The id of the peak (maximum of y data)\n",
    "    peaks.append(x[maxid])\n",
    "plt.show()"
   ]
  },
  {
   "cell_type": "code",
   "execution_count": null,
   "metadata": {},
   "outputs": [],
   "source": [
    "fig = plt.figure()\n",
    "\n",
    "colours = ['C0', 'C1', 'C2', 'C3', 'C4']\n",
    "\n",
    "index = [0, 1, 2, 3, 4]\n",
    "\n",
    "\n",
    "\n",
    "for j, C in zip(index, colours):\n",
    "   \n",
    "    ax = sns.kdeplot(chain[burn::thin, j]*(max_vals[j]-min_vals[j]) + min_vals[j], color=C, label = parameter_names[j] + r' (' + str(np.round(peaks[j],3)) + r')', lw  = 3)        \n",
    "    # plt.axvline(opt_val[profile][0][j], ls='--', lw=2, color = C, label = r'Optimal GP ' + parameter_names[j])\n",
    "    plt.xlabel(r'Value', fontsize = 18)\n",
    "    plt.ylabel(r'Density', fontsize = 18)\n",
    "    plt.title(r'Profile = '+str(profile), fontsize = 20)\n",
    "    plt.legend(fontsize = 18)\n",
    "    plt.xticks(fontsize = 15)\n",
    "    plt.yticks(fontsize = 15)\n",
    "#     plt.axvline(x = peaks[j], color = C, lw =3, linestyle = '--')\n",
    "#     plt.axvline(x =0.06, color = 'black')\n",
    "\n",
    "plt.xlim(-0.1, 1.1)\n",
    "plt.show()"
   ]
  },
  {
   "cell_type": "code",
   "execution_count": null,
   "metadata": {},
   "outputs": [],
   "source": [
    "print(peaks)"
   ]
  },
  {
   "cell_type": "code",
   "execution_count": null,
   "metadata": {},
   "outputs": [],
   "source": []
  },
  {
   "cell_type": "code",
   "execution_count": null,
   "metadata": {},
   "outputs": [],
   "source": []
  }
 ],
 "metadata": {
  "kernelspec": {
   "display_name": "Python 3",
   "language": "python",
   "name": "python3"
  },
  "language_info": {
   "codemirror_mode": {
    "name": "ipython",
    "version": 3
   },
   "file_extension": ".py",
   "mimetype": "text/x-python",
   "name": "python",
   "nbconvert_exporter": "python",
   "pygments_lexer": "ipython3",
   "version": "3.8.10"
  }
 },
 "nbformat": 4,
 "nbformat_minor": 4
}
