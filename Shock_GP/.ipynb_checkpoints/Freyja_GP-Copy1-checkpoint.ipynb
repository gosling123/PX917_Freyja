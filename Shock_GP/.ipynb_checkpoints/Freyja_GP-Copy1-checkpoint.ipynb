{
 "cells": [
  {
   "cell_type": "code",
   "execution_count": 7,
   "metadata": {},
   "outputs": [],
   "source": [
    "from shock import *\n",
    "import numpy as np\n",
    "import GPy\n",
    "from sklearn.model_selection import train_test_split\n",
    "# from design import latin_random\n",
    "from scipy.stats import qmc\n",
    "import scipy.stats as sc\n",
    "import seaborn as sns\n",
    "from smt.sampling_methods import LHS\n",
    "import matplotlib\n",
    "\n",
    "import matplotlib.pyplot as plt\n",
    "\n",
    "import GPy\n",
    "from sklearn.model_selection import train_test_split\n",
    "\n",
    "plt.rcParams[\"figure.figsize\"] = (20, 10)"
   ]
  },
  {
   "cell_type": "code",
   "execution_count": null,
   "metadata": {},
   "outputs": [],
   "source": [
    "### variables = [flux_e, flux_i, RA_frac, coupling, lpi_loss_frac] ###\n",
    "\n",
    "\n",
    "# sample_space = [sc.uniform(0.0, 0.5), sc.uniform(0.0,0.5), sc.uniform(0.0,1.0),\\\n",
    "#                 sc.uniform(0,1.0), sc.uniform(0.0,1.0)]\n",
    "\n",
    "sample_space = [sc.uniform(0.0,0.3), sc.uniform(0.0,0.3),sc.uniform(0.5,1.0),\\\n",
    "                sc.uniform(0.05,0.4),sc.uniform(0,0.5)]\n",
    "\n",
    "bounds = np.array([[0.0, 0.5], [0.0, 0.5], [0.0, 1.0], [0.0, 1.0], [0.0, 1.0]])\n",
    "\n",
    "\n",
    "# print(bounds)\n",
    "\n",
    "sampling = LHS(xlimits=bounds)\n",
    "\n",
    "num = 1000\n",
    "LH_samples = sampling(num)"
   ]
  },
  {
   "cell_type": "code",
   "execution_count": null,
   "metadata": {},
   "outputs": [],
   "source": [
    "# Plot priors\n",
    "\n",
    "labels = ['Flux Limiter_e', 'Flux Limiter_i', 'RA','Coupling','LPI Loss']\n",
    "fig, axs = plt.subplots(2, 3,constrained_layout=True)\n",
    "\n",
    "for j in range(5):\n",
    "    ax = axs.flat[j]\n",
    "    \n",
    "    x = np.linspace(0.99*bounds[j][0], 1.01*bounds[j][1], 1000)\n",
    "    \n",
    "    sns.histplot(LH_samples[:,j], stat='density', kde=True, color='C1', ax=ax, label = 'LH Samples')\n",
    "\n",
    "    ax.plot(x, sample_space[j].pdf(x), ls='-', label = 'Uniform')\n",
    "    \n",
    "    ax.set_title(labels[j])\n",
    "    \n",
    "\n",
    "axs.flat[-1].set_visible(False)\n",
    "plt.gcf().set_size_inches(20,10)\n",
    "\n",
    "# # comment to see plot\n",
    "# plt.close()"
   ]
  },
  {
   "cell_type": "markdown",
   "metadata": {},
   "source": [
    "## Single Picket Profile (profile = 1)"
   ]
  },
  {
   "cell_type": "code",
   "execution_count": null,
   "metadata": {},
   "outputs": [],
   "source": [
    "log_L_results_P1 = np.array([])\n",
    "\n",
    "i = 0\n",
    "for sample in LH_samples:\n",
    "    if (i % 50 == 0):\n",
    "        print(i)\n",
    "    \n",
    "    log_L = shk_vel_lh(sample, profile = 1, nr = 2000, nfiles = 400, den = 1100, \\\n",
    "                   returns = 100, t_tot = 6.0e-9, plot = False, plot_GP = False) \n",
    "    \n",
    "    log_L_results_P1 = np.append(log_L_results_P1, log_L)\n",
    "    \n",
    "    i += 1"
   ]
  },
  {
   "cell_type": "code",
   "execution_count": null,
   "metadata": {},
   "outputs": [],
   "source": [
    "print(len(log_L_results_P1))"
   ]
  },
  {
   "cell_type": "code",
   "execution_count": null,
   "metadata": {},
   "outputs": [],
   "source": [
    "with open('LH_freyja_samples.npy', 'wb') as f:\n",
    "    \n",
    "     np.save(f, LH_samples)\n",
    "\n",
    "with open('Log_L_samples_P1.npy', 'wb') as f:\n",
    "    \n",
    "     np.save(f, log_L_results_P1)\n",
    "        \n",
    "# with open('Log_L_samples_P2.npy', 'wb') as f:\n",
    "    \n",
    "#      np.save(f, log_L_results_P2)\n",
    "        \n",
    "# with open('Log_L_samples_P3.npy', 'wb') as f:\n",
    "    \n",
    "#      np.save(f, log_L_results_P3)\n"
   ]
  },
  {
   "cell_type": "code",
   "execution_count": 6,
   "metadata": {},
   "outputs": [
    {
     "ename": "ValueError",
     "evalue": "Cannot load file containing pickled data when allow_pickle=False",
     "output_type": "error",
     "traceback": [
      "\u001b[0;31m---------------------------------------------------------------------------\u001b[0m",
      "\u001b[0;31mValueError\u001b[0m                                Traceback (most recent call last)",
      "\u001b[0;32m<ipython-input-6-94e0df8dec30>\u001b[0m in \u001b[0;36m<module>\u001b[0;34m\u001b[0m\n\u001b[0;32m----> 1\u001b[0;31m \u001b[0mLH_samples\u001b[0m \u001b[0;34m=\u001b[0m \u001b[0mnp\u001b[0m\u001b[0;34m.\u001b[0m\u001b[0mload\u001b[0m\u001b[0;34m(\u001b[0m\u001b[0;34m'LH_freyja_samples.npy'\u001b[0m\u001b[0;34m)\u001b[0m\u001b[0;34m\u001b[0m\u001b[0;34m\u001b[0m\u001b[0m\n\u001b[0m\u001b[1;32m      2\u001b[0m \u001b[0;34m\u001b[0m\u001b[0m\n\u001b[1;32m      3\u001b[0m \u001b[0mlog_L_results_P1\u001b[0m \u001b[0;34m=\u001b[0m \u001b[0mnp\u001b[0m\u001b[0;34m.\u001b[0m\u001b[0mload\u001b[0m\u001b[0;34m(\u001b[0m\u001b[0;34m'Log_L_samples_P1.npy'\u001b[0m\u001b[0;34m)\u001b[0m\u001b[0;34m\u001b[0m\u001b[0;34m\u001b[0m\u001b[0m\n",
      "\u001b[0;32m~/.local/lib/python3.8/site-packages/numpy/lib/npyio.py\u001b[0m in \u001b[0;36mload\u001b[0;34m(file, mmap_mode, allow_pickle, fix_imports, encoding)\u001b[0m\n\u001b[1;32m    433\u001b[0m             \u001b[0;31m# Try a pickle\u001b[0m\u001b[0;34m\u001b[0m\u001b[0;34m\u001b[0m\u001b[0;34m\u001b[0m\u001b[0m\n\u001b[1;32m    434\u001b[0m             \u001b[0;32mif\u001b[0m \u001b[0;32mnot\u001b[0m \u001b[0mallow_pickle\u001b[0m\u001b[0;34m:\u001b[0m\u001b[0;34m\u001b[0m\u001b[0;34m\u001b[0m\u001b[0m\n\u001b[0;32m--> 435\u001b[0;31m                 raise ValueError(\"Cannot load file containing pickled data \"\n\u001b[0m\u001b[1;32m    436\u001b[0m                                  \"when allow_pickle=False\")\n\u001b[1;32m    437\u001b[0m             \u001b[0;32mtry\u001b[0m\u001b[0;34m:\u001b[0m\u001b[0;34m\u001b[0m\u001b[0;34m\u001b[0m\u001b[0m\n",
      "\u001b[0;31mValueError\u001b[0m: Cannot load file containing pickled data when allow_pickle=False"
     ]
    }
   ],
   "source": [
    "LH_samples = np.load('LH_freyja_samples.npy')\n",
    "\n",
    "log_L_results_P1 = np.load('Log_L_samples_P1.npy')\n"
   ]
  },
  {
   "cell_type": "code",
   "execution_count": null,
   "metadata": {},
   "outputs": [],
   "source": [
    "train_frac = 0.8\n",
    "\n",
    "X_train, X_test, Y_train, Y_test = train_test_split(LH_samples, log_L_results_P1, test_size= 1 - train_frac)\n",
    "Y_train = Y_train[:, None]\n",
    "Y_test = Y_test[:, None]"
   ]
  },
  {
   "cell_type": "code",
   "execution_count": null,
   "metadata": {},
   "outputs": [],
   "source": [
    "kernel = GPy.kern.Exponential(input_dim=5, variance=1.0, lengthscale=1.0,ARD=True)\n",
    "m = GPy.models.GPRegression(X_train, Y_train, kernel)\n",
    "# m = GPy.models.GPHeteroscedasticRegression(X_train, Y_train, kernel)\n",
    "m.optimize_restarts(15, messages=False)\n",
    "\n",
    "display(m)\n",
    "m.Exponential.lengthscale"
   ]
  },
  {
   "cell_type": "code",
   "execution_count": null,
   "metadata": {},
   "outputs": [],
   "source": [
    "Y_ptrain, V_ptrain = m.predict(np.array(X_train)) \n",
    "Y_ptest, V_ptest = m.predict(np.array(X_test))"
   ]
  },
  {
   "cell_type": "code",
   "execution_count": null,
   "metadata": {},
   "outputs": [],
   "source": [
    "# root-mean-square error (RMSE)\n",
    "rmse_train = np.sqrt(np.mean((Y_ptrain[:,0] - Y_train[:,0])**2))\n",
    "rmse_test = np.sqrt(np.mean((Y_ptest[:,0] - Y_test[:,0])**2))\n",
    "\n",
    "print(rmse_train, rmse_test)"
   ]
  },
  {
   "cell_type": "code",
   "execution_count": null,
   "metadata": {},
   "outputs": [],
   "source": [
    "target_value = log_L_results_P1\n",
    "\n",
    "\n",
    "### DISTRIBUTION OF QUANTITY OF INTEREST\n",
    "fig = plt.figure()\n",
    "sns.kdeplot(target_value.reshape(len(target_value)), label = 'Target Data', linestyle='dashdot', linewidth = 5, color = 'black')\n",
    "sns.kdeplot(Y_ptrain.reshape(len(Y_ptrain)), label=f'Train', color = 'blue')\n",
    "sns.kdeplot(Y_ptest.reshape(len(Y_ptest)), label=f'Test', color = 'orange')\n",
    "plt.legend()\n",
    "plt.xlabel(r'$\\log$ Likelihood', fontsize = 20)\n",
    "plt.ylabel(r'Density', fontsize = 20)\n",
    "plt.show()\n",
    "\n",
    "### STANDARD DEVIATION \n",
    "S_ptrain = np.sqrt(V_ptrain)\n",
    "S_ptest = np.sqrt(V_ptest)\n",
    "\n",
    "#### ax1/2 --- train\n",
    "#### ax3/4 ---- test\n",
    "\n",
    "### PLOT CORRELATION BETWEEN VALUES AND ERRORS\n",
    "fig, ((ax1, ax2), (ax3, ax4)) = plt.subplots(2, 2)\n",
    "ax1.scatter(Y_train, Y_ptrain, label=f'Train', color = 'blue', alpha = 0.6)\n",
    "ax1.plot([target_value.min(), target_value.max()], [target_value.min(), target_value.max()], 'k:', label = 'Target')\n",
    "ax1.set_xlabel('True Value', fontsize = 20)\n",
    "ax1.set_ylabel('Predicted Value', fontsize = 20)\n",
    "ax1.legend()\n",
    "\n",
    "ax2.plot(abs(Y_ptrain[:,0] - Y_train[:, 0]), S_ptrain[:, 0], 'o', label='Train', color = 'blue')\n",
    "ax2.set_xlabel('True Error', fontsize = 20)\n",
    "ax2.set_ylabel('Predicted Error', fontsize = 20)\n",
    "ax2.plot([0, S_ptrain.max()], [0, S_ptrain.max()], 'k:', label = 'Target')\n",
    "ax2.legend()\n",
    "\n",
    "ax3.scatter(Y_test, Y_ptest, label=f'Test', alpha=0.6, color = 'orange')\n",
    "ax3.plot([target_value.min(), target_value.max()], [target_value.min(), target_value.max()], 'k:', label = 'Target')\n",
    "ax3.set_xlabel('True Value', fontsize = 20)\n",
    "ax3.set_ylabel('Predicted Value', fontsize = 20)\n",
    "ax3.legend()\n",
    "\n",
    "\n",
    "ax4.plot(abs(Y_ptest[:,0] - Y_test[:,0]), S_ptest, 'o', label='Test', color='orange')\n",
    "ax4.set_xlabel('True Error', fontsize = 20)\n",
    "ax4.set_ylabel('Predicted Error', fontsize = 20)\n",
    "ax4.plot([0, S_ptest.max()], [0, S_ptest.max()], 'k:', label = 'Target')\n",
    "ax4.legend()\n",
    "\n",
    "\n",
    "\n",
    "\n",
    "plt.subplots_adjust(left=0.1,\n",
    "                    bottom=0.1, \n",
    "                    right=0.9, \n",
    "                    top=0.9, \n",
    "                    wspace=0.5, \n",
    "                    hspace=0.4)\n",
    "\n",
    "plt.show()"
   ]
  },
  {
   "cell_type": "code",
   "execution_count": null,
   "metadata": {},
   "outputs": [],
   "source": [
    "def first_order_sensitivities(Q, variables, Q0, eps=1e-2):\n",
    "    x0 = np.array([v.mean() for v in variables])\n",
    "    dQ_dx = np.zeros(len(x0))\n",
    "    for i, xi in enumerate(x0):\n",
    "        xp = x0.copy()\n",
    "        h = eps*xi\n",
    "        xp[i] = xi + h\n",
    "        dQ_dx[i] = (Q(xp) - Q0)/h\n",
    "    return dQ_dx"
   ]
  },
  {
   "cell_type": "code",
   "execution_count": null,
   "metadata": {},
   "outputs": [],
   "source": [
    "# sample_space = [sc.uniform(0.0, 0.2), sc.uniform(0.0,0.2), sc.uniform(0.8,1.0),\\\n",
    "#                 sc.uniform(0.7,1.0), sc.uniform(0.0,0.4)]\n",
    "### variables = [flux_e, flux_i, RA_frac, coupling, lpi_loss_frac] ###\n",
    "\n",
    "sample_space = [sc.uniform(0.0,0.3), sc.uniform(0.0,0.3),sc.uniform(0.5,1.0),\\\n",
    "                sc.uniform(0.05,0.4),sc.uniform(0,0.5)]\n",
    "\n",
    "x0 = np.array([sample.mean() for sample in sample_space])\n",
    "\n",
    "Q0 = shk_vel_lh(x0)"
   ]
  },
  {
   "cell_type": "code",
   "execution_count": null,
   "metadata": {},
   "outputs": [],
   "source": [
    "sens = first_order_sensitivities(shk_vel_lh, sample_space, Q0, eps=1e-6)"
   ]
  },
  {
   "cell_type": "code",
   "execution_count": null,
   "metadata": {},
   "outputs": [],
   "source": [
    "print(sens)"
   ]
  },
  {
   "cell_type": "code",
   "execution_count": null,
   "metadata": {},
   "outputs": [],
   "source": [
    "scaled_sens = x0 * np.abs(sens)"
   ]
  },
  {
   "cell_type": "code",
   "execution_count": null,
   "metadata": {},
   "outputs": [],
   "source": [
    "labels = [r'Flux Limiter Electron', r'Flux Limiter Ion', r'RA',r'Coupling',r'LPI Loss']\n",
    "\n",
    "plt.bar(labels, scaled_sens)\n",
    "\n",
    "plt.xticks(fontsize = 20)\n",
    "plt.yticks(fontsize = 20)\n",
    "plt.ylabel(r'Scaled First Order Sensitivity $\\left(\\bar{\\theta_{i}}\\,\\,\\frac{d Q(\\theta)}{d\\theta_{i}}\\right) \\times 10^3$', fontsize = 20)\n",
    "# plt.yscale('symlog')\n",
    "# plt.ylim(1e2, 1e4)\n",
    "\n",
    "plt.show()"
   ]
  },
  {
   "cell_type": "code",
   "execution_count": null,
   "metadata": {},
   "outputs": [],
   "source": []
  }
 ],
 "metadata": {
  "kernelspec": {
   "display_name": "Python 3",
   "language": "python",
   "name": "python3"
  },
  "language_info": {
   "codemirror_mode": {
    "name": "ipython",
    "version": 3
   },
   "file_extension": ".py",
   "mimetype": "text/x-python",
   "name": "python",
   "nbconvert_exporter": "python",
   "pygments_lexer": "ipython3",
   "version": "3.8.10"
  }
 },
 "nbformat": 4,
 "nbformat_minor": 4
}
